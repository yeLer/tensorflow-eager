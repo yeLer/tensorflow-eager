{
 "cells": [
  {
   "cell_type": "markdown",
   "metadata": {},
   "source": [
    "# Dynamic recurrent neural networks for sequence classification with TensorFlow Eager\n",
    "----\n",
    "\n",
    "Hello everyone! In this tutorial, we are going to build a recurrent neural network for sentiment analysis on IMDB movie reviews. I've chosen this dataset as it is small in size and very easy to download by any of you so that there's no bottleneck in data acquisition :).\n",
    "\n",
    "The main aim of this tutorial is not focused on teaching you how to build a simple RNN, but rather on how to build a RNN that gives you more flexibility in the model development (e.g. use a new RNN cell that is not currently available in Keras, easier access to the unrolled outputs of the RNN, read data in batches from disk). My hope is to be able to give you a glimpse on how you can go on and build your own models, no matter how complicated they might get, in whatever area might be of interest to you.\n",
    "\n",
    "### Tutorial steps\n",
    "----\n",
    "![img](tutorials_graphics/04_flowchart.png)\n",
    "\n",
    "* *Download the **raw data** and transfer it to **TFRecords** (the default TensorFlow file format).*\n",
    "* *Prepare a **dataset Iterator** that reads data in batches, from disk, and automatically pads the input data of  variable length to the maximum size within a batch.*\n",
    "* *Build a **word-level RNN** model with both **LSTM** and **UGRNN cells**.*\n",
    "* *Compare the performance of both cells on the test dataset.*\n",
    "* **Save/restore trained model**\n",
    "* *Test the network on new reviews*\n",
    "* *Visualize RNN activations*\n",
    "\n",
    "\n",
    "If you would like to add anything to this tutorial please let me know. Also, I am happy to hear any suggestions you have for improvement."
   ]
  },
  {
   "cell_type": "markdown",
   "metadata": {},
   "source": [
    "## Import useful libraries\n",
    "----"
   ]
  },
  {
   "cell_type": "code",
   "execution_count": 2,
   "metadata": {},
   "outputs": [],
   "source": [
    "# Import functions to write and parse TFRecords\n",
    "from data_utils import imdb2tfrecords\n",
    "from data_utils import parse_imdb_sequence\n",
    "\n",
    "# Import TensorFlow and TensorFlow Eager\n",
    "import tensorflow as tf\n",
    "import tensorflow.contrib.eager as tfe\n",
    "\n",
    "# Import pandas for data processing and pickle for data reading\n",
    "import pandas as pd\n",
    "import pickle\n",
    "\n",
    "# Import library for plotting\n",
    "import matplotlib.pyplot as plt\n",
    "%matplotlib inline"
   ]
  },
  {
   "cell_type": "code",
   "execution_count": 3,
   "metadata": {},
   "outputs": [],
   "source": [
    "# Enable eager mode. Once activated it cannot be reversed! Run just once.\n",
    "tfe.enable_eager_execution(device_policy=tfe.DEVICE_PLACEMENT_SILENT)"
   ]
  },
  {
   "cell_type": "markdown",
   "metadata": {},
   "source": [
    "## Download data and transfer it to TFRecords\n",
    "----\n",
    "\n",
    "**Alternatively, if you clone this repository, you will automatically download the parsed data to TFRecords, so feel free to skip this step.** \n",
    "\n",
    "*Large Movie Review Dataset is 'a dataset for binary sentiment classification containing substantially more data than previous benchmark datasets'* (source [here](http://ai.stanford.edu/~amaas/data/sentiment/)). It is comprised of a train dataset with 25000 reviews (12500 positive and 125000 negative) and a test dataset with 25000 reviews as well (12500 positive and 125000 negative).\n",
    "\n",
    "Here is an example of a positive review:\n",
    "\n",
    "`\n",
    "Rented the movie as a joke. My friends and I had so much fun laughing at it that I went and found a used copy and bought it for myself. Now when all my friends are looking for a funny movie I give them Sasquatch Hunters. It needs to be said though there is a rule that was made that made the movie that much better. No talking is allowed while the movie is on unless the words are Sasquatch repeated in a chant. I loved the credit at the end of the movie as well. \"Thanks for the Jeep, Tom!\" Whoever Tom is I say thank you because without your Jeep the movie may not have been made. In short a great movie if you are looking for something to laugh at. If you want a good movie maybe look for something else but if you don't mind a laugh at the expense of a man in a monkey suit grab yourself a copy.\n",
    "`\n",
    "\n",
    "And here is an example of a negative review: \n",
    "\n",
    "`\n",
    "The Good: I liked this movie because it was the first horror movie I've seen in a long time that actually scared me. The acting wasn't too bad, and the \"Cupid\" killer was believable and disturbing. The Bad: The story line and plot of this movie is incredibly weak. There just wasn't much to it. The ways the killer killed his victims was very horrifying and disgusting. I do not recommend this movie to anyone who can not handle gore. Overall: A good scare, but a bad story.\n",
    "`\n",
    "\n",
    "To download this dataset, simply run in the terminal:\n",
    "> **chmod o+x datasets/get_imdb_dataset.sh**\n",
    "\n",
    "> **datasets/get_imdb_dataset.sh**\n",
    "\n",
    "Let's have a look at the distribution of the reviews' lengths (number of words/review):"
   ]
  },
  {
   "cell_type": "code",
   "execution_count": 4,
   "metadata": {},
   "outputs": [
    {
     "data": {
      "image/png": "[encoded data removed]",
      "text/plain": [
       "<matplotlib.figure.Figure at 0x7fc037439ac8>"
      ]
     },
     "metadata": {},
     "output_type": "display_data"
    }
   ],
   "source": [
    "length_reviews = pickle.load(open('datasets/aclImdb/length_reviews.pkl', 'rb'))\n",
    "pd.DataFrame(length_reviews, columns=['Length reviews']).hist(bins=50, color='orange');\n",
    "plt.grid(False);"
   ]
  },
  {
   "cell_type": "markdown",
   "metadata": {},
   "source": [
    "It seems that the majority of reviews have around 250 words. However, the distribution seems to have a really long tail due to some reviews that are quite long. As we will have to pad the variable length input sequence to the largest sequence in the batch, it will be quite ineficcient to keep these reviews. \n",
    "\n",
    "Thus, I have added an argument to the *imdb2tfrecords* function where you can specify the maximum number of words allowed in a review. This will simply take the last *max_words* in a review to make the training more efficient and avoid unrolling the neural network for many many timesteps, which can lead to memory problems. \n",
    "\n",
    "After downloading the dataset, simply run the *imdb2tfrecords* function. This function will parse each review into a list of word indices. "
   ]
  },
  {
   "cell_type": "code",
   "execution_count": 5,
   "metadata": {},
   "outputs": [],
   "source": [
    "# Function to process the raw data to TFRecords, indexing each word in the review to an integer index.\n",
    "#imdb2tfrecords(path_data='datasets/aclImdb/', min_word_frequency=5, max_words_review=700)"
   ]
  },
  {
   "cell_type": "markdown",
   "metadata": {},
   "source": [
    "At the end of this processing, each tfrecord will be composed of:\n",
    "\n",
    "| TFrecord:        | Description           | \n",
    "|:----------------:|:---------------------:| \n",
    "| 'token_indexes'  | the sequence of word indexes present in the review|\n",
    "| 'target'      | 0 for negative sentiment or 1 for positive sentiment |\n",
    "| 'sequence_length' | the sequence length of the review.|"
   ]
  },
  {
   "cell_type": "markdown",
   "metadata": {},
   "source": [
    "If you would like to test this RNN network with a new dataset, please have a look at the *imdb2tfrecords* or *parse_imdb_sequence* in the *data_utils.py* script in order to understand how you could parse your new data to TFRecords. I really recommend using this file format as it makes is very easy to work with very large datasets, without being constrained to your RAM capabilities."
   ]
  },
  {
   "cell_type": "markdown",
   "metadata": {},
   "source": [
    "## Creating a train and test dataset iterator\n",
    "----    "
   ]
  },
  {
   "cell_type": "code",
   "execution_count": 6,
   "metadata": {},
   "outputs": [],
   "source": [
    "train_dataset = tf.data.TFRecordDataset('datasets/aclImdb/train.tfrecords')\n",
    "train_dataset = train_dataset.map(parse_imdb_sequence).shuffle(buffer_size=10000)\n",
    "train_dataset = train_dataset.padded_batch(512, padded_shapes=([None],[],[]))"
   ]
  },
  {
   "cell_type": "code",
   "execution_count": 7,
   "metadata": {},
   "outputs": [],
   "source": [
    "test_dataset = tf.data.TFRecordDataset('datasets/aclImdb/test.tfrecords')\n",
    "test_dataset = test_dataset.map(parse_imdb_sequence).shuffle(buffer_size=10000)\n",
    "test_dataset = test_dataset.padded_batch(512, padded_shapes=([None],[],[]))"
   ]
  },
  {
   "cell_type": "code",
   "execution_count": 8,
   "metadata": {},
   "outputs": [],
   "source": [
    "# Read the word vocabulary\n",
    "word2idx = pickle.load(open('datasets/aclImdb/word2idx.pkl', 'rb'))"
   ]
  },
  {
   "cell_type": "markdown",
   "metadata": {},
   "source": [
    "## RNN model for sequence classification, compatible with Eager API \n",
    "----\n",
    "In the cell below, you can find the class that I have created for the RNN model. The API is very similar with one I created in the previous tutorial, except that now we track the accuracy of the model instead of the loss.\n",
    "\n",
    "The idea of the network is very simple. We simply take each word in the review, select its corresponding word embedding (initialized randomly in the beginning), and pass it through the RNN cell. We then take the output of the RNN cell at the end of the sequence and pass it through a dense layer (with ReLU activation) to obtain the final predictions. \n",
    "\n",
    "Like usually, the network inherits from tf.keras.Model in order to keep track of all variables and save/restore them easily.\n",
    "\n",
    "![img](tutorials_graphics/rnn_imdb.png)"
   ]
  },
  {
   "cell_type": "code",
   "execution_count": 9,
   "metadata": {},
   "outputs": [],
   "source": [
    "class RNNModel(tf.keras.Model):\n",
    "    def __init__(self, embedding_size=100, cell_size=64, dense_size=128, \n",
    "                 num_classes=2, vocabulary_size=None, rnn_cell='lstm',\n",
    "                 device='cpu:0', checkpoint_directory=None):\n",
    "        ''' Define the parameterized layers used during forward-pass, the device\n",
    "            where you would like to run the computation on and the checkpoint\n",
    "            directory. Additionaly, you can also modify the default size of the \n",
    "            network.\n",
    "            \n",
    "            Args:\n",
    "                embedding_size: the size of the word embedding.\n",
    "                cell_size: RNN cell size.\n",
    "                dense_size: the size of the dense layer.\n",
    "                num_classes: the number of labels in the network.\n",
    "                vocabulary_size: the size of the word vocabulary.\n",
    "                rnn_cell: string, either 'lstm' or 'ugrnn'.\n",
    "                device: string, 'cpu:n' or 'gpu:n' (n can vary). Default, 'cpu:0'.\n",
    "                checkpoint_directory: the directory where you would like to save or \n",
    "                                      restore a model.\n",
    "        '''\n",
    "        super(RNNModel, self).__init__()\n",
    "        \n",
    "        # Weights initializer function\n",
    "        w_initializer = tf.contrib.layers.xavier_initializer()\n",
    "    \n",
    "        # Biases initializer function\n",
    "        b_initializer = tf.zeros_initializer()\n",
    "        \n",
    "        # Initialize weights for word embeddings \n",
    "        self.embeddings = tf.keras.layers.Embedding(vocabulary_size, embedding_size, \n",
    "                                                    embeddings_initializer=w_initializer)\n",
    "        \n",
    "        # Dense layer initialization\n",
    "        self.dense_layer = tf.keras.layers.Dense(dense_size, activation=tf.nn.relu, \n",
    "                                                 kernel_initializer=w_initializer, \n",
    "                                                 bias_initializer=b_initializer)\n",
    "        \n",
    "        # Predictions layer initialization\n",
    "        self.pred_layer = tf.keras.layers.Dense(num_classes, activation=None, \n",
    "                                                kernel_initializer=w_initializer, \n",
    "                                                bias_initializer=b_initializer)\n",
    "        \n",
    "        # Basic LSTM cell\n",
    "        if rnn_cell=='lstm':\n",
    "            self.rnn_cell = tf.nn.rnn_cell.BasicLSTMCell(cell_size)\n",
    "        # Else UGRNN cell\n",
    "        else:\n",
    "            self.rnn_cell = tf.contrib.rnn.UGRNNCell(cell_size)\n",
    "            \n",
    "        # Define the device \n",
    "        self.device = device\n",
    "        \n",
    "        # Define the checkpoint directory\n",
    "        self.checkpoint_directory = checkpoint_directory\n",
    "        \n",
    "    def predict(self, X, seq_length, is_training):\n",
    "        '''\n",
    "        Predicts the probability of each class, based on the input sample.\n",
    "\n",
    "        Args:\n",
    "            X: 2D tensor of shape (batch_size, time_steps).\n",
    "            seq_length: the length of each sequence in the batch.\n",
    "            is_training: Boolean. Either the network is predicting in\n",
    "                         training mode or not.\n",
    "        '''\n",
    "        \n",
    "        # Get the number of samples within a batch\n",
    "        num_samples = tf.shape(X)[0]\n",
    "\n",
    "        # Initialize LSTM cell state with zeros\n",
    "        state = self.rnn_cell.zero_state(num_samples, dtype=tf.float32)\n",
    "        \n",
    "        # Get the embedding of each word in the sequence\n",
    "        embedded_words = self.embeddings(X)\n",
    "        \n",
    "        # Unstack the embeddings\n",
    "        unstacked_embeddings = tf.unstack(embedded_words, axis=1)\n",
    "        \n",
    "        # Iterate through each timestep and append the predictions\n",
    "        outputs = []\n",
    "        for input_step in unstacked_embeddings:\n",
    "            output, state = self.rnn_cell(input_step, state)\n",
    "            outputs.append(output)\n",
    "            \n",
    "        # Stack outputs to (batch_size, time_steps, cell_size)\n",
    "        outputs = tf.stack(outputs, axis=1)\n",
    "        \n",
    "        # Extract the output of the last time step, of each sample\n",
    "        idxs_last_output = tf.stack([tf.range(num_samples), \n",
    "                                     tf.cast(seq_length-1, tf.int32)], axis=1)\n",
    "        final_output = tf.gather_nd(outputs, idxs_last_output)\n",
    "        \n",
    "        # Add dropout for regularization\n",
    "        dropped_output = tf.layers.dropout(final_output, rate=0.3, training=is_training)\n",
    "        \n",
    "        # Pass the last cell state through a dense layer (ReLU activation)\n",
    "        dense = self.dense_layer(dropped_output)\n",
    "        \n",
    "        # Compute the unnormalized log probabilities\n",
    "        logits = self.pred_layer(dense)\n",
    "        return logits\n",
    "    \n",
    "    def loss_fn(self, X, y, seq_length, is_training):\n",
    "        \"\"\" Defines the loss function used during \n",
    "            training.         \n",
    "        \"\"\"\n",
    "        preds = self.predict(X, seq_length, is_training)\n",
    "        loss = tf.losses.sparse_softmax_cross_entropy(labels=y, logits=preds)\n",
    "        return loss\n",
    "    \n",
    "    def grads_fn(self, X, y, seq_length, is_training):\n",
    "        \"\"\" Dynamically computes the gradients of the loss value\n",
    "            with respect to the parameters of the model, in each\n",
    "            forward pass.\n",
    "        \"\"\"\n",
    "        with tfe.GradientTape() as tape:\n",
    "            loss = self.loss_fn(X, y, seq_length, is_training)\n",
    "        return tape.gradient(loss, self.variables)\n",
    "    \n",
    "    def restore_model(self):\n",
    "        \"\"\" Function to restore trained model.\n",
    "        \"\"\"\n",
    "        with tf.device(self.device):\n",
    "            # Run the model once to initialize variables\n",
    "            dummy_input = tf.constant(tf.zeros((1,1)))\n",
    "            dummy_length = tf.constant(1, shape=(1,))\n",
    "            dummy_pred = self.predict(dummy_input, dummy_length, False)\n",
    "            # Restore the variables of the model\n",
    "            saver = tfe.Saver(self.variables)\n",
    "            saver.restore(tf.train.latest_checkpoint\n",
    "                          (self.checkpoint_directory))\n",
    "    \n",
    "    def save_model(self, global_step=0):\n",
    "        \"\"\" Function to save trained model.\n",
    "        \"\"\"\n",
    "        tfe.Saver(self.variables).save(self.checkpoint_directory, \n",
    "                                       global_step=global_step)   \n",
    "        \n",
    "    def fit(self, training_data, eval_data, optimizer, num_epochs=500, \n",
    "            early_stopping_rounds=10, verbose=10, train_from_scratch=False):\n",
    "        \"\"\" Function to train the model, using the selected optimizer and\n",
    "            for the desired number of epochs. You can either train from scratch\n",
    "            or load the latest model trained. Early stopping is used in order to\n",
    "            mitigate the risk of overfitting the network.\n",
    "            \n",
    "            Args:\n",
    "                training_data: the data you would like to train the model on.\n",
    "                                Must be in the tf.data.Dataset format.\n",
    "                eval_data: the data you would like to evaluate the model on.\n",
    "                            Must be in the tf.data.Dataset format.\n",
    "                optimizer: the optimizer used during training.\n",
    "                num_epochs: the maximum number of iterations you would like to \n",
    "                            train the model.\n",
    "                early_stopping_rounds: stop training if the accuracy on the eval \n",
    "                                       dataset does not increase after n epochs.\n",
    "                verbose: int. Specify how often to print the loss value of the network.\n",
    "                train_from_scratch: boolean. Whether to initialize variables of the\n",
    "                                    the last trained model or initialize them\n",
    "                                    randomly.\n",
    "        \"\"\" \n",
    "    \n",
    "        if train_from_scratch==False:\n",
    "            self.restore_model()\n",
    "        \n",
    "        # Initialize best_acc. This variable will store the highest accuracy\n",
    "        # on the eval dataset.\n",
    "        best_acc = 0\n",
    "        \n",
    "        # Initialize classes to update the mean accuracy of train and eval\n",
    "        train_acc = tfe.metrics.Accuracy('train_acc')\n",
    "        eval_acc = tfe.metrics.Accuracy('eval_acc')\n",
    "        \n",
    "        # Initialize dictionary to store the accuracy history\n",
    "        self.history = {}\n",
    "        self.history['train_acc'] = []\n",
    "        self.history['eval_acc'] = []\n",
    "        \n",
    "        # Begin training\n",
    "        with tf.device(self.device):\n",
    "            for i in range(num_epochs):\n",
    "                # Training with gradient descent\n",
    "                for X, y, seq_length in tfe.Iterator(training_data):\n",
    "                    grads = self.grads_fn(X, y, seq_length, True)\n",
    "                    optimizer.apply_gradients(zip(grads, self.variables))\n",
    "                    \n",
    "                # Check accuracy train dataset\n",
    "                for X, y, seq_length in tfe.Iterator(training_data):\n",
    "                    logits = self.predict(X, seq_length, False)\n",
    "                    preds = tf.argmax(logits, axis=1)\n",
    "                    train_acc(preds, y)\n",
    "                self.history['train_acc'].append(train_acc.result().numpy())\n",
    "                # Reset metrics\n",
    "                train_acc.init_variables()\n",
    "\n",
    "                # Check accuracy eval dataset\n",
    "                for X, y, seq_length in tfe.Iterator(eval_data):\n",
    "                    logits = self.predict(X, seq_length, False)\n",
    "                    preds = tf.argmax(logits, axis=1)\n",
    "                    eval_acc(preds, y)\n",
    "                self.history['eval_acc'].append(eval_acc.result().numpy())\n",
    "                # Reset metrics\n",
    "                eval_acc.init_variables()\n",
    "                \n",
    "                # Print train and eval accuracy\n",
    "                if (i==0) | ((i+1)%verbose==0):\n",
    "                    print('Train accuracy at epoch %d: ' %(i+1), self.history['train_acc'][-1])\n",
    "                    print('Eval accuracy at epoch %d: ' %(i+1), self.history['eval_acc'][-1])\n",
    "\n",
    "                # Check for early stopping\n",
    "                if self.history['eval_acc'][-1]>best_acc:\n",
    "                    best_acc = self.history['eval_acc'][-1]\n",
    "                    count = early_stopping_rounds\n",
    "                else:\n",
    "                    count -= 1\n",
    "                if count==0:\n",
    "                    break  "
   ]
  },
  {
   "cell_type": "markdown",
   "metadata": {},
   "source": [
    "## Train model with gradient descent and early stopping\n",
    "----"
   ]
  },
  {
   "cell_type": "markdown",
   "metadata": {},
   "source": [
    "### Model training with simple LSTM cells\n",
    "----"
   ]
  },
  {
   "cell_type": "code",
   "execution_count": 10,
   "metadata": {},
   "outputs": [],
   "source": [
    "# Specify the path where you want to save/restore the trained variables.\n",
    "checkpoint_directory = 'models_checkpoints/ImdbRNN/'\n",
    "\n",
    "# Use the GPU if available.\n",
    "device = 'gpu:0' if tfe.num_gpus()>0 else 'cpu:0'\n",
    "\n",
    "# Define optimizer.\n",
    "optimizer = tf.train.AdamOptimizer(learning_rate=1e-4)\n",
    "\n",
    "# Instantiate model. This doesn't initialize the variables yet.\n",
    "lstm_model = RNNModel(vocabulary_size=len(word2idx), device=device, \n",
    "                      checkpoint_directory=checkpoint_directory)"
   ]
  },
  {
   "cell_type": "code",
   "execution_count": 11,
   "metadata": {},
   "outputs": [
    {
     "name": "stdout",
     "output_type": "stream",
     "text": [
      "Train accuracy at epoch 1:  0.72308\n",
      "Eval accuracy at epoch 1:  0.68372\n",
      "Train accuracy at epoch 2:  0.77708\n",
      "Eval accuracy at epoch 2:  0.75472\n",
      "Train accuracy at epoch 3:  0.875\n",
      "Eval accuracy at epoch 3:  0.82036\n",
      "Train accuracy at epoch 4:  0.91728\n",
      "Eval accuracy at epoch 4:  0.8542\n",
      "Train accuracy at epoch 5:  0.94728\n",
      "Eval accuracy at epoch 5:  0.87464\n",
      "Train accuracy at epoch 6:  0.96312\n",
      "Eval accuracy at epoch 6:  0.88228\n",
      "Train accuracy at epoch 7:  0.97476\n",
      "Eval accuracy at epoch 7:  0.88624\n",
      "Train accuracy at epoch 8:  0.9828\n",
      "Eval accuracy at epoch 8:  0.88344\n",
      "Train accuracy at epoch 9:  0.98692\n",
      "Eval accuracy at epoch 9:  0.87036\n",
      "Train accuracy at epoch 10:  0.99052\n",
      "Eval accuracy at epoch 10:  0.86724\n",
      "Train accuracy at epoch 11:  0.9944\n",
      "Eval accuracy at epoch 11:  0.87088\n",
      "Train accuracy at epoch 12:  0.99568\n",
      "Eval accuracy at epoch 12:  0.86068\n"
     ]
    }
   ],
   "source": [
    "# Train model\n",
    "lstm_model.fit(train_dataset, test_dataset, optimizer, num_epochs=500, \n",
    "                early_stopping_rounds=5, verbose=1, train_from_scratch=True)"
   ]
  },
  {
   "cell_type": "code",
   "execution_count": 12,
   "metadata": {},
   "outputs": [],
   "source": [
    "# Save model\n",
    "lstm_model.save_model()"
   ]
  },
  {
   "cell_type": "markdown",
   "metadata": {},
   "source": [
    "### Model training with UGRNN cells \n",
    "---"
   ]
  },
  {
   "cell_type": "code",
   "execution_count": 13,
   "metadata": {},
   "outputs": [],
   "source": [
    "# Define optimizer.\n",
    "optimizer = tf.train.AdamOptimizer(learning_rate=1e-4)\n",
    "\n",
    "# Instantiate model. This doesn't initialize the variables yet.\n",
    "ugrnn_model = RNNModel(vocabulary_size=len(word2idx), rnn_cell='ugrnn', \n",
    "                       device=device, checkpoint_directory=checkpoint_directory)"
   ]
  },
  {
   "cell_type": "code",
   "execution_count": 14,
   "metadata": {},
   "outputs": [
    {
     "name": "stdout",
     "output_type": "stream",
     "text": [
      "Train accuracy at epoch 1:  0.71092\n",
      "Eval accuracy at epoch 1:  0.67688\n",
      "Train accuracy at epoch 2:  0.82512\n",
      "Eval accuracy at epoch 2:  0.7982\n",
      "Train accuracy at epoch 3:  0.88792\n",
      "Eval accuracy at epoch 3:  0.84116\n",
      "Train accuracy at epoch 4:  0.92156\n",
      "Eval accuracy at epoch 4:  0.85076\n",
      "Train accuracy at epoch 5:  0.94592\n",
      "Eval accuracy at epoch 5:  0.86476\n",
      "Train accuracy at epoch 6:  0.95984\n",
      "Eval accuracy at epoch 6:  0.87104\n",
      "Train accuracy at epoch 7:  0.9708\n",
      "Eval accuracy at epoch 7:  0.87188\n",
      "Train accuracy at epoch 8:  0.9786\n",
      "Eval accuracy at epoch 8:  0.8748\n",
      "Train accuracy at epoch 9:  0.98412\n",
      "Eval accuracy at epoch 9:  0.86452\n",
      "Train accuracy at epoch 10:  0.9882\n",
      "Eval accuracy at epoch 10:  0.86172\n",
      "Train accuracy at epoch 11:  0.9938\n",
      "Eval accuracy at epoch 11:  0.86808\n",
      "Train accuracy at epoch 12:  0.9956\n",
      "Eval accuracy at epoch 12:  0.8596\n",
      "Train accuracy at epoch 13:  0.997\n",
      "Eval accuracy at epoch 13:  0.86368\n"
     ]
    }
   ],
   "source": [
    "# Train model\n",
    "ugrnn_model.fit(train_dataset, test_dataset, optimizer, num_epochs=500, \n",
    "                early_stopping_rounds=5, verbose=1, train_from_scratch=True)"
   ]
  },
  {
   "cell_type": "markdown",
   "metadata": {},
   "source": [
    "### Performance comparison\n",
    "---"
   ]
  },
  {
   "cell_type": "code",
   "execution_count": 15,
   "metadata": {},
   "outputs": [
    {
     "data": {
      "image/png": "[encoded data removed]",
      "text/plain": [
       "<matplotlib.figure.Figure at 0x7fc037349d68>"
      ]
     },
     "metadata": {},
     "output_type": "display_data"
    }
   ],
   "source": [
    "f, (ax1, ax2) = plt.subplots(1, 2, sharey=True, figsize=(10, 4))\n",
    "ax1.plot(range(len(lstm_model.history['train_acc'])), lstm_model.history['train_acc'], \n",
    "         label='LSTM Train Accuracy');\n",
    "ax1.plot(range(len(lstm_model.history['eval_acc'])), lstm_model.history['eval_acc'], \n",
    "         label='LSTM Test Accuracy');\n",
    "ax2.plot(range(len(ugrnn_model.history['train_acc'])), ugrnn_model.history['train_acc'],\n",
    "         label='UGRNN Train Accuracy');\n",
    "ax2.plot(range(len(ugrnn_model.history['eval_acc'])), ugrnn_model.history['eval_acc'],\n",
    "         label='UGRNN Test Accuracy');\n",
    "ax1.legend();\n",
    "ax2.legend();"
   ]
  },
  {
   "cell_type": "markdown",
   "metadata": {},
   "source": [
    "## Test network on new reviews\n",
    "---\n",
    "\n",
    "I think it will be nice to test the network on new reviews that appeared recently on IMDb. I have selected three reviews posted on February 2018 for the movie Bad Apples. Feel free to play with new reviews or invent a new one yourself! The network mananaged to identify the sentiment correctly in all three cases so I am pretty impressed :)."
   ]
  },
  {
   "cell_type": "code",
   "execution_count": 16,
   "metadata": {},
   "outputs": [
    {
     "name": "stdout",
     "output_type": "stream",
     "text": [
      "INFO:tensorflow:Restoring parameters from models_checkpoints/ImdbRNN/-0\n"
     ]
    }
   ],
   "source": [
    "################################################################\n",
    "# Restore trained model\n",
    "################################################################\n",
    "tf.reset_default_graph()\n",
    "checkpoint_directory = 'models_checkpoints/ImdbRNN/'\n",
    "device = 'gpu:0' if tfe.num_gpus()>0 else 'cpu:0'\n",
    "lstm_model = RNNModel(vocabulary_size=len(word2idx), device=device, \n",
    "                      checkpoint_directory=checkpoint_directory)\n",
    "lstm_model.restore_model()"
   ]
  },
  {
   "cell_type": "code",
   "execution_count": 17,
   "metadata": {},
   "outputs": [],
   "source": [
    "###############################################################\n",
    "# Import/download necessary libraries to process new sequences\n",
    "###############################################################\n",
    "import nltk\n",
    "try:\n",
    "    nltk.data.find('tokenizers/punkt')\n",
    "except LookupError:\n",
    "    nltk.download('punkt')\n",
    "from nltk.tokenize import word_tokenize\n",
    "import re"
   ]
  },
  {
   "cell_type": "code",
   "execution_count": 18,
   "metadata": {},
   "outputs": [],
   "source": [
    "def process_new_review(review):\n",
    "    '''Function to process a new review.\n",
    "       Args:\n",
    "           review: original text review, string.\n",
    "       Returns:\n",
    "           indexed_review: sequence of integers, words correspondence \n",
    "                           from word2idx.\n",
    "           seq_length: the length of the review.\n",
    "    '''\n",
    "    indexed_review = re.sub(r'<[^>]+>', ' ', review)\n",
    "    indexed_review = word_tokenize(indexed_review)\n",
    "    indexed_review = [word2idx[word] if word in list(word2idx.keys()) else \n",
    "                      word2idx['Unknown_token'] for word in indexed_review]\n",
    "    indexed_review = indexed_review + [word2idx['End_token']]\n",
    "    seq_length = len(indexed_review)    \n",
    "    return indexed_review, seq_length"
   ]
  },
  {
   "cell_type": "code",
   "execution_count": 19,
   "metadata": {},
   "outputs": [],
   "source": [
    "sent_dict = {0: 'negative', 1: 'positive'}"
   ]
  },
  {
   "cell_type": "code",
   "execution_count": 20,
   "metadata": {},
   "outputs": [],
   "source": [
    "review_score_10 = \"I think Bad Apples is a great time and I recommend! I enjoyed the opening, which gave way for the rest of the movie to occur. The main couple was very likable and I believed all of their interactions. They had great onscreen chemistry and made me laugh quite a few times! Keeping the girls in the masks but seeing them in action was something I loved. It kept a mystery to them throughout. I think the dialogue was great. The kills were fun. And the special surprise gore effect at the end was AWESOME!! I won't spoil that part ;) I also enjoyed how the movie wrapped up. It gave a very urban legends type feel of \\\"did you ever hear the story...\\\". Plus is leaves the door open for another film which I wouldn't mind at all. Long story short, I think if you take the film for what it is; a fun little horror flick, then you won't be disappointed! HaPpY eArLy HaLLoWeEn!\""
   ]
  },
  {
   "cell_type": "code",
   "execution_count": 21,
   "metadata": {},
   "outputs": [],
   "source": [
    "review_score_4 = \"A young couple comes to a small town, where the husband get a job working in a hospital. The wife which you instantly hate or dislike works home, at the same time a horrible murders takes place in this small town by two masked killers. Bad Apples is just your tipical B-horror movie with average acting (I give them that. Altough you may get the idea that some of the actors are crazy-convervative Christians), but the script is just bad, and that's what destroys the film.\""
   ]
  },
  {
   "cell_type": "code",
   "execution_count": 22,
   "metadata": {},
   "outputs": [],
   "source": [
    "review_score_1 = \"When you first start watching this movie, you can tell its going to be a painful ride. the audio is poor...the attacks by the \\\"girls\\\" are like going back in time, to watching the old rocky films, were blows never touched. the editing is poor with it aswell, example the actress in is the bath when her husband comes home, clearly you see her wearing a flesh coloured bra in the bath. no hints or spoilers, just wait till you find it in a bargain basket of cheap dvds in a couple of weeks\""
   ]
  },
  {
   "cell_type": "code",
   "execution_count": 23,
   "metadata": {},
   "outputs": [],
   "source": [
    "new_reviews = [review_score_10, review_score_4, review_score_1]\n",
    "scores = [10, 4, 1]"
   ]
  },
  {
   "cell_type": "code",
   "execution_count": 24,
   "metadata": {},
   "outputs": [
    {
     "name": "stdout",
     "output_type": "stream",
     "text": [
      "The sentiment for the review with score 10 was found to be positive\n",
      "The sentiment for the review with score 4 was found to be negative\n",
      "The sentiment for the review with score 1 was found to be negative\n"
     ]
    }
   ],
   "source": [
    "with tf.device(device):\n",
    "    for original_review, score in zip(new_reviews, scores):\n",
    "        indexed_review, seq_length = process_new_review(original_review)\n",
    "        indexed_review = tf.reshape(tf.constant(indexed_review), (1,-1))\n",
    "        seq_length = tf.reshape(tf.constant(seq_length), (1,))\n",
    "        logits = lstm_model.predict(indexed_review, seq_length, False)\n",
    "        pred = tf.argmax(logits, axis=1).numpy()[0]\n",
    "        print('The sentiment for the review with score %d was found to be %s'\n",
    "              %(score, sent_dict[pred]))"
   ]
  },
  {
   "cell_type": "markdown",
   "metadata": {},
   "source": [
    "## Visualizing RNN cell activations\n",
    "----"
   ]
  },
  {
   "cell_type": "markdown",
   "metadata": {},
   "source": [
    "The part of this tutorial has been inspired by the work of Karpathy in \"Visualizing and understanding recurrent neural networks\" ([link here](https://arxiv.org/abs/1506.02078)).\n",
    "\n",
    "We will use the library seaborn for plotting the heatmap. You can get it by typing in the terminal:\n",
    "> **pip install seaborn**"
   ]
  },
  {
   "cell_type": "code",
   "execution_count": 25,
   "metadata": {},
   "outputs": [],
   "source": [
    "# Import libraries for RNN visualization\n",
    "import seaborn as sns"
   ]
  },
  {
   "cell_type": "code",
   "execution_count": 26,
   "metadata": {},
   "outputs": [],
   "source": [
    "def VisualizeRNN(model, X):\n",
    "    ''' Function to return the tanh of the cell state at each timestep.\n",
    "        \n",
    "        Args:\n",
    "            model: trained RNN model.\n",
    "            X: indexed review of shape (1, sequence_length).\n",
    "            \n",
    "        Returns:\n",
    "            tanh(cell_states): the tanh of the memory cell at each timestep.       \n",
    "    '''\n",
    "    \n",
    "    # Initialize LSTM cell state with zeros\n",
    "    state = model.rnn_cell.zero_state(1, dtype=tf.float32)\n",
    "    \n",
    "    # Get the embedding of each word in the sequence\n",
    "    embedded_words = model.embeddings(X)\n",
    "\n",
    "    # Unstack the embeddings\n",
    "    unstacked_embeddings = tf.unstack(embedded_words, axis=1)\n",
    "\n",
    "    # Iterate through each timestep and append its cell state\n",
    "    cell_states = []\n",
    "    for input_step in unstacked_embeddings:\n",
    "        _, state = model.rnn_cell(input_step, state)\n",
    "        cell_states.append(state[0])\n",
    "        \n",
    "    # Stack cell_states to (batch_size, time_steps, cell_size)\n",
    "    cell_states = tf.stack(cell_states, axis=1)\n",
    "    return tf.tanh(cell_states)"
   ]
  },
  {
   "cell_type": "code",
   "execution_count": 27,
   "metadata": {},
   "outputs": [],
   "source": [
    "# Feel free to modify here the input! \n",
    "dummy_review = \"When you first start watching this movie, you can tell its going to be a painful ride. the audio is poor...\""
   ]
  },
  {
   "cell_type": "code",
   "execution_count": 28,
   "metadata": {},
   "outputs": [],
   "source": [
    "# Processing new review\n",
    "indexed_review, seq_length = process_new_review(dummy_review)\n",
    "indexed_review = tf.reshape(tf.constant(indexed_review), (1,-1))"
   ]
  },
  {
   "cell_type": "code",
   "execution_count": 29,
   "metadata": {},
   "outputs": [],
   "source": [
    "# Get the cell states\n",
    "cell_states = VisualizeRNN(lstm_model, indexed_review)"
   ]
  },
  {
   "cell_type": "code",
   "execution_count": 30,
   "metadata": {},
   "outputs": [
    {
     "data": {
      "image/png": "[encoded data removed]",
      "text/plain": [
       "<matplotlib.figure.Figure at 0x7fbe8acd2668>"
      ]
     },
     "metadata": {},
     "output_type": "display_data"
    }
   ],
   "source": [
    "# Plot activations of the first 10 units in the cell (the cell has 64 units in total)\n",
    "plt.figure(figsize = (16,5))\n",
    "sns.heatmap(cell_states.numpy()[0,:,:10].T, \n",
    "            xticklabels=word_tokenize(dummy_review)+['<END>'],\n",
    "            cmap='RdBu');"
   ]
  }
 ],
 "metadata": {
  "kernelspec": {
   "display_name": "Python 3",
   "language": "python",
   "name": "python3"
  },
  "language_info": {
   "codemirror_mode": {
    "name": "ipython",
    "version": 3
   },
   "file_extension": ".py",
   "mimetype": "text/x-python",
   "name": "python",
   "nbconvert_exporter": "python",
   "pygments_lexer": "ipython3",
   "version": "3.6.4"
  }
 },
 "nbformat": 4,
 "nbformat_minor": 2
}
